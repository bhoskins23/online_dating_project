{
 "cells": [
  {
   "cell_type": "markdown",
   "metadata": {},
   "source": [
    "## Data Collection and Cleaning"
   ]
  },
  {
   "cell_type": "code",
   "execution_count": 1,
   "metadata": {},
   "outputs": [],
   "source": [
    "#!pip install pyreadstat\n",
    "import pandas as pd\n",
    "import numpy as np"
   ]
  },
  {
   "cell_type": "markdown",
   "metadata": {},
   "source": [
    "### Data Collection"
   ]
  },
  {
   "cell_type": "code",
   "execution_count": 2,
   "metadata": {},
   "outputs": [
    {
     "data": {
      "text/html": [
       "<div>\n",
       "<style scoped>\n",
       "    .dataframe tbody tr th:only-of-type {\n",
       "        vertical-align: middle;\n",
       "    }\n",
       "\n",
       "    .dataframe tbody tr th {\n",
       "        vertical-align: top;\n",
       "    }\n",
       "\n",
       "    .dataframe thead th {\n",
       "        text-align: right;\n",
       "    }\n",
       "</style>\n",
       "<table border=\"1\" class=\"dataframe\">\n",
       "  <thead>\n",
       "    <tr style=\"text-align: right;\">\n",
       "      <th></th>\n",
       "      <th>QKEY</th>\n",
       "      <th>INTERVIEW_START_W56</th>\n",
       "      <th>INTERVIEW_END_W56</th>\n",
       "      <th>DEVICE_TYPE_W56</th>\n",
       "      <th>SAMPLE_W56</th>\n",
       "      <th>FORM_W56</th>\n",
       "      <th>MARITAL_W56</th>\n",
       "      <th>MARITAL2_W56</th>\n",
       "      <th>RELATEVER_W56</th>\n",
       "      <th>CASUAL_W56</th>\n",
       "      <th>...</th>\n",
       "      <th>F_PARTYSUM_FINAL</th>\n",
       "      <th>F_INCOME</th>\n",
       "      <th>F_INCOME_RECODE</th>\n",
       "      <th>F_REG</th>\n",
       "      <th>REG_KP</th>\n",
       "      <th>F_IDEO</th>\n",
       "      <th>F_ACSWEB</th>\n",
       "      <th>F_VOLSUM</th>\n",
       "      <th>WEIGHT_W56_ATPONLY</th>\n",
       "      <th>WEIGHT_W56</th>\n",
       "    </tr>\n",
       "  </thead>\n",
       "  <tbody>\n",
       "    <tr>\n",
       "      <th>0</th>\n",
       "      <td>25.0</td>\n",
       "      <td>1.379064e+10</td>\n",
       "      <td>1.379064e+10</td>\n",
       "      <td>Mobile</td>\n",
       "      <td>KP</td>\n",
       "      <td>Form 2</td>\n",
       "      <td>Married</td>\n",
       "      <td>NaN</td>\n",
       "      <td>NaN</td>\n",
       "      <td>NaN</td>\n",
       "      <td>...</td>\n",
       "      <td>Dem/Lean Dem</td>\n",
       "      <td>$150,000 or more</td>\n",
       "      <td>$75,000+</td>\n",
       "      <td>NaN</td>\n",
       "      <td>Yes- registered to vote</td>\n",
       "      <td>Liberal</td>\n",
       "      <td>Accesses Internet by paying a cell phone compa...</td>\n",
       "      <td>Yes</td>\n",
       "      <td>NaN</td>\n",
       "      <td>0.038493</td>\n",
       "    </tr>\n",
       "    <tr>\n",
       "      <th>1</th>\n",
       "      <td>26.0</td>\n",
       "      <td>1.379064e+10</td>\n",
       "      <td>1.379064e+10</td>\n",
       "      <td>Mobile</td>\n",
       "      <td>KP</td>\n",
       "      <td>Form 2</td>\n",
       "      <td>Never been married</td>\n",
       "      <td>No, not in a committed romantic relationship</td>\n",
       "      <td>No, have never been in a committed romantic re...</td>\n",
       "      <td>No, not casually dating anyone</td>\n",
       "      <td>...</td>\n",
       "      <td>Dem/Lean Dem</td>\n",
       "      <td>Less than $10,000</td>\n",
       "      <td>&lt;$30,000</td>\n",
       "      <td>NaN</td>\n",
       "      <td>Yes- registered to vote</td>\n",
       "      <td>Liberal</td>\n",
       "      <td>Accesses Internet by paying a cell phone compa...</td>\n",
       "      <td>No</td>\n",
       "      <td>NaN</td>\n",
       "      <td>0.265996</td>\n",
       "    </tr>\n",
       "    <tr>\n",
       "      <th>2</th>\n",
       "      <td>27.0</td>\n",
       "      <td>1.379064e+10</td>\n",
       "      <td>1.379064e+10</td>\n",
       "      <td>Mobile</td>\n",
       "      <td>KP</td>\n",
       "      <td>Form 1</td>\n",
       "      <td>Never been married</td>\n",
       "      <td>Yes, in a committed romantic relationship</td>\n",
       "      <td>NaN</td>\n",
       "      <td>NaN</td>\n",
       "      <td>...</td>\n",
       "      <td>Dem/Lean Dem</td>\n",
       "      <td>Less than $10,000</td>\n",
       "      <td>&lt;$30,000</td>\n",
       "      <td>NaN</td>\n",
       "      <td>No- not registered to vote</td>\n",
       "      <td>Moderate</td>\n",
       "      <td>Does not access the Internet by paying a cell ...</td>\n",
       "      <td>No</td>\n",
       "      <td>NaN</td>\n",
       "      <td>0.763675</td>\n",
       "    </tr>\n",
       "  </tbody>\n",
       "</table>\n",
       "<p>3 rows × 183 columns</p>\n",
       "</div>"
      ],
      "text/plain": [
       "   QKEY  INTERVIEW_START_W56  INTERVIEW_END_W56 DEVICE_TYPE_W56 SAMPLE_W56  \\\n",
       "0  25.0         1.379064e+10       1.379064e+10          Mobile         KP   \n",
       "1  26.0         1.379064e+10       1.379064e+10          Mobile         KP   \n",
       "2  27.0         1.379064e+10       1.379064e+10          Mobile         KP   \n",
       "\n",
       "  FORM_W56         MARITAL_W56                                  MARITAL2_W56  \\\n",
       "0   Form 2             Married                                           NaN   \n",
       "1   Form 2  Never been married  No, not in a committed romantic relationship   \n",
       "2   Form 1  Never been married     Yes, in a committed romantic relationship   \n",
       "\n",
       "                                       RELATEVER_W56  \\\n",
       "0                                                NaN   \n",
       "1  No, have never been in a committed romantic re...   \n",
       "2                                                NaN   \n",
       "\n",
       "                       CASUAL_W56  ... F_PARTYSUM_FINAL           F_INCOME  \\\n",
       "0                             NaN  ...     Dem/Lean Dem   $150,000 or more   \n",
       "1  No, not casually dating anyone  ...     Dem/Lean Dem  Less than $10,000   \n",
       "2                             NaN  ...     Dem/Lean Dem  Less than $10,000   \n",
       "\n",
       "  F_INCOME_RECODE F_REG                      REG_KP    F_IDEO  \\\n",
       "0        $75,000+   NaN     Yes- registered to vote   Liberal   \n",
       "1        <$30,000   NaN     Yes- registered to vote   Liberal   \n",
       "2        <$30,000   NaN  No- not registered to vote  Moderate   \n",
       "\n",
       "                                            F_ACSWEB F_VOLSUM  \\\n",
       "0  Accesses Internet by paying a cell phone compa...      Yes   \n",
       "1  Accesses Internet by paying a cell phone compa...       No   \n",
       "2  Does not access the Internet by paying a cell ...       No   \n",
       "\n",
       "  WEIGHT_W56_ATPONLY WEIGHT_W56  \n",
       "0                NaN   0.038493  \n",
       "1                NaN   0.265996  \n",
       "2                NaN   0.763675  \n",
       "\n",
       "[3 rows x 183 columns]"
      ]
     },
     "execution_count": 2,
     "metadata": {},
     "output_type": "execute_result"
    }
   ],
   "source": [
    "# This survey was downloaded from https://www.pewresearch.org/internet/?post_type=dataset\n",
    "# File path and file name to use\n",
    "file_path = './data/'\n",
    "file_name = 'ATP W56.sav'\n",
    "df = pd.read_spss(file_path + file_name)\n",
    "df.head(3)"
   ]
  },
  {
   "cell_type": "code",
   "execution_count": 3,
   "metadata": {},
   "outputs": [
    {
     "data": {
      "text/plain": [
       "(4860, 183)"
      ]
     },
     "execution_count": 3,
     "metadata": {},
     "output_type": "execute_result"
    }
   ],
   "source": [
    "# Check size of data\n",
    "df.shape"
   ]
  },
  {
   "cell_type": "markdown",
   "metadata": {},
   "source": [
    "### Data Cleaning\n",
    "-Reviewed all questions in this survey and removed the ones that will not be used in this project."
   ]
  },
  {
   "cell_type": "code",
   "execution_count": 4,
   "metadata": {},
   "outputs": [],
   "source": [
    "# List of columns not to use in analysis\n",
    "df.drop(columns = ['QKEY','INTERVIEW_START_W56','INTERVIEW_END_W56','DEVICE_TYPE_W56','SAMPLE_W56',\n",
    "                   'BREAKUP_W56','POTENTIALDATE1.a_W56', 'POTENTIALDATE1.b_W56', 'POTENTIALDATE1.c_W56', \n",
    "                   'POTENTIALDATE1.d_W56', 'POTENTIALDATE1.e_W56', 'POTENTIALDATE2.a_W56', 'POTENTIALDATE2.b_W56',\n",
    "                   'POTENTIALDATE2.c_W56', 'POTENTIALDATE2.d_W56','POTENTIALDATE3.a_W56', 'POTENTIALDATE3.b_W56', \n",
    "                   'POTENTIALDATE3.c_W56', 'POTENTIALDATE3.d_W56', 'FORM_W56','WEIGHT_W56_ATPONLY','WEIGHT_W56', \n",
    "                   'F_REG', 'REG_KP','F_IDEO','F_PARTY_FINAL', 'F_PARTYLN_FINAL', 'F_PARTYSUM_FINAL', 'F_CITIZEN', \n",
    "                   'F_BORN', 'FIRSTDATE.a_W56', 'FIRSTDATE.b_W56', 'FIRSTDATE.c_W56', 'DATEACCEPT.a_W56',\n",
    "                   'DATEACCEPT.b_W56', 'DATEACCEPT.c_W56', 'DATEACCEPT.d_W56', \n",
    "                   'DATEACCEPT.e_W56', 'F_RELIG', 'F_ATTEND', 'F_ACSWEB','F_VOLSUM', 'F_INCOME_RECODE'], inplace=True)"
   ]
  },
  {
   "cell_type": "markdown",
   "metadata": {},
   "source": [
    "-Divide questions by category so it is easier and quicker to plot based on category. These lists will be used for the first graphs using a for loop to plot quickly every feature. Once the relevant plots are identified, clean the code and remove unneccesary graphs."
   ]
  },
  {
   "cell_type": "code",
   "execution_count": 5,
   "metadata": {},
   "outputs": [],
   "source": [
    "on_relationship_status = ['MARITAL_W56', 'MARITAL2_W56', 'RELATEVER_W56', 'CASUAL_W56', 'SEEKING_W56',\n",
    "                       'MOTIVNODATE.a_W56','MOTIVNODATE.b_W56', 'MOTIVNODATE.c_W56', 'MOTIVNODATE.d_W56', \n",
    "                       'MOTIVNODATE.e_W56', 'MOTIVNODATE.f_W56', 'MOTIVNODATE.g_W56', 'MOTIVNODATE.h_W56', \n",
    "                       'TOTRELDUR_W56', 'FAMSURV19RELAT_W56', 'FAMSURV19DATING_W56' ]\n",
    "\n",
    "on_internet_use = ['SNSUSE_W56', 'SNSPOST_W56', 'ONLINEDATE_W56', 'ONLINEDATE2_W56', 'ONCHECK_W56', \n",
    "                   'BREAKUPACCEPTF1.a_W56', 'BREAKUPACCEPTF1.b_W56','BREAKUPACCEPTF1.c_W56', \n",
    "                   'BREAKUPACCEPTF1.d_W56','BREAKUPACCEPTF1.e_W56', 'BREAKUPACCEPTF2.a_W56','BREAKUPACCEPTF2.b_W56', \n",
    "                   'BREAKUPACCEPTF2.c_W56', 'BREAKUPACCEPTF2.d_W56', 'BREAKUPACCEPTF2.e_W56', 'PARTNERDEVICE.a_W56',\n",
    "                   'PARTNERDEVICE.b_W56', 'PARTNERDEVICE.c_W56']\n",
    "\n",
    "\n",
    "on_harassment = ['DATEHARASSM_W56', 'DATEHARASSW_W56', 'HARASSEXP1.a_W56', 'HARASSEXP1.b_W56', 'HARASSEXP1.c_W56', \n",
    "              'HARASSEXP2.a_W56', 'HARASSEXP2.b_W56', 'HARASSEXP2.c_W56', 'ONHARASS.a_W56', 'ONHARASS.b_W56', \n",
    "              'ONHARASS.c_W56', 'ONHARASS.d_W56']   \n",
    "\n",
    "on_internet_opinion = ['ONIMPACT_W56', 'ONIMPACTPOSOE_M1_W56', 'ONIMPACTPOSOE_M2_W56', 'ONIMPACTPOSOE_M3_W56', \n",
    "                    'ONIMPACTNEGOE_M1_W56', 'ONIMPACTNEGOE_M2_W56', 'ONIMPACTNEGOE_M3_W56', 'ONSUCCESS_W56',\n",
    "                    'ONSAFE_W56', 'ONPROBLEM.a_W56', 'ONPROBLEM.b_W56', 'ONPROBLEM.c_W56', 'ONPROBLEM.d_W56', \n",
    "                    'ONPROBLEM.e_W56', 'DATE10YR_W56','WHYDATE10YRHARDOE_M1_W56', 'WHYDATE10YRHARDOE_M2_W56', \n",
    "                       'WHYDATE10YRHARDOE_M3_W56', 'WHYDATE10YRHARD_TECH_W56','WHYDATE10YREASYOE_M1_W56', \n",
    "                       'WHYDATE10YREASYOE_M2_W56', 'WHYDATE10YREASYOE_M3_W56', 'WHYDATE10YREASY_TECH_W56', \n",
    "                       'ONDATA_W56', 'ONSAFE_W56']\n",
    "\n",
    "individual_characs = ['PARTNERSEX_W56', 'ORIENTATIONMOD_W56']\n",
    "\n",
    "on_privacy = ['PARTNERPASS.a_W56','PARTNERPASS.b_W56','PARTNERPASS.c_W56','PARTNERTRACK_W56','SNSCHECK.a_W56',\n",
    "              'SNSCHECK.b_W56']\n",
    "       \n",
    "on_dating_preferences = ['ONPROFILES.a_W56', 'ONPROFILES.b_W56', 'ONPROFILES.c_W56', \n",
    "                          'ONPROFILES.d_W56', 'ONPROFILES.e_W56', 'ONPROFILES.f_W56', 'ONPROFILES.g_W56', \n",
    "                         'ONPROFILES.h_W56', 'ONPROFILES.i_W56']\n",
    "\n",
    "\n",
    "on_online_experiences = ['ONFIND.a_W56', 'ONFIND.b_W56', 'ONFIND.c_W56', 'ONFIND.d_W56', 'DATEVOCAB.a_W56', \n",
    "                         'ONMSGF1_W56','ONMSGF2_W56', 'ONALGORITHM_W56', 'DATEVOCAB.b_W56', 'DATEVOCAB.c_W56', \n",
    "                         'DATEVOCAB.d_W56', 'DATEVOCAB.e_W56','DATEGHOST_W56', 'ONEXPGEN_W56', 'ONFEEL.a_W56', \n",
    "                         'ONFEEL.b_W56','ONFEEL.c_W56', 'ONEXP.a_W56', 'ONEXP.b_W56','ONEXP.c_W56']\n",
    "\n",
    "on_how_meet = ['PARTNERMEET_W56', 'ONMEET_W56', 'DATEDIFF_W56','WHYDATEDIFF.a_W56', 'WHYDATEDIFF.b_W56', \n",
    "               'WHYDATEDIFF.c_W56', 'WHYDATEDIFF.d_W56', 'WHYDATEDIFF.e_W56', 'WHYDATEDIFF.f_W56']\n",
    "\n",
    "on_feelings = ['SNSSEE1_W56', 'SNSSEE2_W56', 'SNSFEEL_W56', 'PARTNERDISTRACT_W56','PARTNERSCREEN.a_W56', \n",
    "               'PARTNERSCREEN.b_W56', 'PARTNERSCREEN.c_W56', 'DATEPRESSURE.a_W56', 'DATEPRESSURE.b_W56', \n",
    "               'DATEPRESSURE.c_W56', 'SNSPARTNER.a_W56','SNSPARTNER.b_W56']"
   ]
  },
  {
   "cell_type": "code",
   "execution_count": 6,
   "metadata": {},
   "outputs": [
    {
     "data": {
      "text/plain": [
       "['F_METRO',\n",
       " 'F_CREGION',\n",
       " 'F_USR_SELFID',\n",
       " 'F_AGECAT',\n",
       " 'F_SEX',\n",
       " 'F_EDUCCAT',\n",
       " 'F_EDUCCAT2',\n",
       " 'F_RACETHN',\n",
       " 'F_NATIVITY',\n",
       " 'F_MARITAL',\n",
       " 'F_INCOME']"
      ]
     },
     "execution_count": 6,
     "metadata": {},
     "output_type": "execute_result"
    }
   ],
   "source": [
    "# These are the columns with demographics info\n",
    "demographics = [each for each in df.columns if each.startswith('F_')]\n",
    "demographics"
   ]
  },
  {
   "cell_type": "markdown",
   "metadata": {},
   "source": [
    "### Null Values\n",
    "There are null values for the question columns. The reason for this is because not all questions were asked to all groups. For example, people who responded they were in a commited relationship, did not answer questions about dating. For the columns with demographic information, all data is complete. For the questions were the answer is \"Refused\", meaning the participant did not answer the question, those will be removed from the data when it is plotted during EDA. "
   ]
  },
  {
   "cell_type": "code",
   "execution_count": 7,
   "metadata": {},
   "outputs": [
    {
     "data": {
      "text/plain": [
       "F_METRO         0\n",
       "F_CREGION       0\n",
       "F_USR_SELFID    0\n",
       "F_AGECAT        0\n",
       "F_SEX           0\n",
       "F_EDUCCAT       0\n",
       "F_EDUCCAT2      0\n",
       "F_RACETHN       0\n",
       "F_NATIVITY      0\n",
       "F_MARITAL       0\n",
       "F_INCOME        0\n",
       "dtype: int64"
      ]
     },
     "execution_count": 7,
     "metadata": {},
     "output_type": "execute_result"
    }
   ],
   "source": [
    "df[demographics].isnull().sum()"
   ]
  },
  {
   "cell_type": "markdown",
   "metadata": {},
   "source": [
    "Write csv file with cleaned dataset"
   ]
  },
  {
   "cell_type": "code",
   "execution_count": 8,
   "metadata": {},
   "outputs": [],
   "source": [
    "df.to_csv(file_path + 'cleaned_PEW_W56.csv', index=False)"
   ]
  }
 ],
 "metadata": {
  "kernelspec": {
   "display_name": "Python 3",
   "language": "python",
   "name": "python3"
  },
  "language_info": {
   "codemirror_mode": {
    "name": "ipython",
    "version": 3
   },
   "file_extension": ".py",
   "mimetype": "text/x-python",
   "name": "python",
   "nbconvert_exporter": "python",
   "pygments_lexer": "ipython3",
   "version": "3.8.3"
  }
 },
 "nbformat": 4,
 "nbformat_minor": 4
}
