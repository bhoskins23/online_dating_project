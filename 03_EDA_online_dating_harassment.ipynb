{
 "cells": [
  {
   "cell_type": "markdown",
   "metadata": {},
   "source": [
    "## Exploring online daters and non online daters experiences with harassment  "
   ]
  },
  {
   "cell_type": "code",
   "execution_count": 1,
   "metadata": {},
   "outputs": [],
   "source": [
    "#!pip install pyreadstat\n",
    "import pandas as pd\n",
    "import numpy as np\n",
    "%matplotlib inline\n",
    "import matplotlib.pyplot as plt\n",
    "import seaborn as sns\n",
    "\n",
    "plt.style.use('seaborn-colorblind')"
   ]
  },
  {
   "cell_type": "code",
   "execution_count": 2,
   "metadata": {},
   "outputs": [
    {
     "name": "stderr",
     "output_type": "stream",
     "text": [
      "/Users/adrianachacon/opt/anaconda3/lib/python3.8/site-packages/IPython/core/interactiveshell.py:3071: DtypeWarning: Columns (27) have mixed types.Specify dtype option on import or set low_memory=False.\n",
      "  has_raised = await self.run_ast_nodes(code_ast.body, cell_name,\n"
     ]
    },
    {
     "data": {
      "text/html": [
       "<div>\n",
       "<style scoped>\n",
       "    .dataframe tbody tr th:only-of-type {\n",
       "        vertical-align: middle;\n",
       "    }\n",
       "\n",
       "    .dataframe tbody tr th {\n",
       "        vertical-align: top;\n",
       "    }\n",
       "\n",
       "    .dataframe thead th {\n",
       "        text-align: right;\n",
       "    }\n",
       "</style>\n",
       "<table border=\"1\" class=\"dataframe\">\n",
       "  <thead>\n",
       "    <tr style=\"text-align: right;\">\n",
       "      <th></th>\n",
       "      <th>MARITAL_W56</th>\n",
       "      <th>MARITAL2_W56</th>\n",
       "      <th>RELATEVER_W56</th>\n",
       "      <th>CASUAL_W56</th>\n",
       "      <th>SEEKING_W56</th>\n",
       "      <th>MOTIVNODATE.a_W56</th>\n",
       "      <th>MOTIVNODATE.b_W56</th>\n",
       "      <th>MOTIVNODATE.c_W56</th>\n",
       "      <th>MOTIVNODATE.d_W56</th>\n",
       "      <th>MOTIVNODATE.e_W56</th>\n",
       "      <th>...</th>\n",
       "      <th>F_CREGION</th>\n",
       "      <th>F_USR_SELFID</th>\n",
       "      <th>F_AGECAT</th>\n",
       "      <th>F_SEX</th>\n",
       "      <th>F_EDUCCAT</th>\n",
       "      <th>F_EDUCCAT2</th>\n",
       "      <th>F_RACETHN</th>\n",
       "      <th>F_NATIVITY</th>\n",
       "      <th>F_MARITAL</th>\n",
       "      <th>F_INCOME</th>\n",
       "    </tr>\n",
       "  </thead>\n",
       "  <tbody>\n",
       "    <tr>\n",
       "      <th>0</th>\n",
       "      <td>Married</td>\n",
       "      <td>NaN</td>\n",
       "      <td>NaN</td>\n",
       "      <td>NaN</td>\n",
       "      <td>NaN</td>\n",
       "      <td>NaN</td>\n",
       "      <td>NaN</td>\n",
       "      <td>NaN</td>\n",
       "      <td>NaN</td>\n",
       "      <td>NaN</td>\n",
       "      <td>...</td>\n",
       "      <td>South</td>\n",
       "      <td>Urban</td>\n",
       "      <td>65+</td>\n",
       "      <td>Male</td>\n",
       "      <td>College graduate+</td>\n",
       "      <td>Postgraduate</td>\n",
       "      <td>White non-Hispanic</td>\n",
       "      <td>U.S.</td>\n",
       "      <td>Married</td>\n",
       "      <td>$150,000 or more</td>\n",
       "    </tr>\n",
       "    <tr>\n",
       "      <th>1</th>\n",
       "      <td>Never been married</td>\n",
       "      <td>No, not in a committed romantic relationship</td>\n",
       "      <td>No, have never been in a committed romantic re...</td>\n",
       "      <td>No, not casually dating anyone</td>\n",
       "      <td>Not currently looking for a relationship or dates</td>\n",
       "      <td>Major reason</td>\n",
       "      <td>Major reason</td>\n",
       "      <td>Not a reason</td>\n",
       "      <td>Not a reason</td>\n",
       "      <td>Not a reason</td>\n",
       "      <td>...</td>\n",
       "      <td>South</td>\n",
       "      <td>Suburban</td>\n",
       "      <td>30-49</td>\n",
       "      <td>Male</td>\n",
       "      <td>College graduate+</td>\n",
       "      <td>College graduate/some post grad</td>\n",
       "      <td>White non-Hispanic</td>\n",
       "      <td>U.S.</td>\n",
       "      <td>Never been married</td>\n",
       "      <td>Less than $10,000</td>\n",
       "    </tr>\n",
       "    <tr>\n",
       "      <th>2</th>\n",
       "      <td>Never been married</td>\n",
       "      <td>Yes, in a committed romantic relationship</td>\n",
       "      <td>NaN</td>\n",
       "      <td>NaN</td>\n",
       "      <td>NaN</td>\n",
       "      <td>NaN</td>\n",
       "      <td>NaN</td>\n",
       "      <td>NaN</td>\n",
       "      <td>NaN</td>\n",
       "      <td>NaN</td>\n",
       "      <td>...</td>\n",
       "      <td>Midwest</td>\n",
       "      <td>Suburban</td>\n",
       "      <td>18-29</td>\n",
       "      <td>Female</td>\n",
       "      <td>Some College</td>\n",
       "      <td>Some college, no degree</td>\n",
       "      <td>White non-Hispanic</td>\n",
       "      <td>U.S.</td>\n",
       "      <td>Living with a partner</td>\n",
       "      <td>Less than $10,000</td>\n",
       "    </tr>\n",
       "  </tbody>\n",
       "</table>\n",
       "<p>3 rows × 140 columns</p>\n",
       "</div>"
      ],
      "text/plain": [
       "          MARITAL_W56                                  MARITAL2_W56  \\\n",
       "0             Married                                           NaN   \n",
       "1  Never been married  No, not in a committed romantic relationship   \n",
       "2  Never been married     Yes, in a committed romantic relationship   \n",
       "\n",
       "                                       RELATEVER_W56  \\\n",
       "0                                                NaN   \n",
       "1  No, have never been in a committed romantic re...   \n",
       "2                                                NaN   \n",
       "\n",
       "                       CASUAL_W56  \\\n",
       "0                             NaN   \n",
       "1  No, not casually dating anyone   \n",
       "2                             NaN   \n",
       "\n",
       "                                         SEEKING_W56 MOTIVNODATE.a_W56  \\\n",
       "0                                                NaN               NaN   \n",
       "1  Not currently looking for a relationship or dates      Major reason   \n",
       "2                                                NaN               NaN   \n",
       "\n",
       "  MOTIVNODATE.b_W56 MOTIVNODATE.c_W56 MOTIVNODATE.d_W56 MOTIVNODATE.e_W56  \\\n",
       "0               NaN               NaN               NaN               NaN   \n",
       "1      Major reason      Not a reason      Not a reason      Not a reason   \n",
       "2               NaN               NaN               NaN               NaN   \n",
       "\n",
       "   ... F_CREGION F_USR_SELFID F_AGECAT   F_SEX          F_EDUCCAT  \\\n",
       "0  ...     South        Urban      65+    Male  College graduate+   \n",
       "1  ...     South     Suburban    30-49    Male  College graduate+   \n",
       "2  ...   Midwest     Suburban    18-29  Female       Some College   \n",
       "\n",
       "                        F_EDUCCAT2           F_RACETHN F_NATIVITY  \\\n",
       "0                     Postgraduate  White non-Hispanic       U.S.   \n",
       "1  College graduate/some post grad  White non-Hispanic       U.S.   \n",
       "2          Some college, no degree  White non-Hispanic       U.S.   \n",
       "\n",
       "               F_MARITAL           F_INCOME  \n",
       "0                Married   $150,000 or more  \n",
       "1     Never been married  Less than $10,000  \n",
       "2  Living with a partner  Less than $10,000  \n",
       "\n",
       "[3 rows x 140 columns]"
      ]
     },
     "execution_count": 2,
     "metadata": {},
     "output_type": "execute_result"
    }
   ],
   "source": [
    "# File path and file name to use\n",
    "file_path = './data/'\n",
    "file_name = 'cleaned_PEW_W56.csv'\n",
    "df = pd.read_csv(file_path + file_name)\n",
    "df.head(3)"
   ]
  },
  {
   "cell_type": "markdown",
   "metadata": {},
   "source": [
    "### EDA - Questions related to Harassment"
   ]
  },
  {
   "cell_type": "markdown",
   "metadata": {},
   "source": [
    "In regards to the question: \"Do you think the increased focus on sexual harassment and assault over the last few years has made it easier or harder for MEN and WOMEN to know how to interact with someone they’re on a date with?\""
   ]
  },
  {
   "cell_type": "code",
   "execution_count": 3,
   "metadata": {},
   "outputs": [
    {
     "data": {
      "text/plain": [
       "Has made it harder for men     0.617284\n",
       "Hasn’t made much difference    0.252263\n",
       "Has made it easier for men     0.115844\n",
       "Refused                        0.014609\n",
       "Name: DATEHARASSM_W56, dtype: float64"
      ]
     },
     "execution_count": 3,
     "metadata": {},
     "output_type": "execute_result"
    }
   ],
   "source": [
    "df['DATEHARASSM_W56'].value_counts(normalize=True)"
   ]
  },
  {
   "cell_type": "code",
   "execution_count": 4,
   "metadata": {},
   "outputs": [
    {
     "data": {
      "text/plain": [
       "Has made it harder for women    0.393004\n",
       "Hasn’t made much difference     0.391152\n",
       "Has made it easier for women    0.200412\n",
       "Refused                         0.015432\n",
       "Name: DATEHARASSW_W56, dtype: float64"
      ]
     },
     "execution_count": 4,
     "metadata": {},
     "output_type": "execute_result"
    }
   ],
   "source": [
    "df['DATEHARASSW_W56'].value_counts(normalize=True)"
   ]
  },
  {
   "cell_type": "markdown",
   "metadata": {},
   "source": [
    "In general, women and men across all communities think it has made it harder for men to interact with someone"
   ]
  },
  {
   "cell_type": "markdown",
   "metadata": {
    "scrolled": true
   },
   "source": [
    "Comparing online daters and non online daters experience on harassment:"
   ]
  },
  {
   "cell_type": "code",
   "execution_count": 5,
   "metadata": {},
   "outputs": [],
   "source": [
    "# Replace 'Refused' with null so it doesn't appear in the graph\n",
    "df['ONLINEDATE_W56'].replace('Refused',np.NaN, inplace= True)"
   ]
  },
  {
   "cell_type": "code",
   "execution_count": 6,
   "metadata": {},
   "outputs": [],
   "source": [
    "# Assign variable names to these questions and answers to combine these columns and help with the plot below\n",
    "HARASSEXP1a_W56 = 'Pressured you for sex'\n",
    "HARASSEXP1b_W56 = 'Touched you in a way that made you feel uncomfortable'\n",
    "HARASSEXP1c_W56 = 'Sent you sexually explicit images that you didn’t ask for'\n",
    "HARASSEXP2a_W56 = 'Spread rumors about your sexual history'\n",
    "HARASSEXP2b_W56 = 'Shared a sexually explicit image of you without your consent' \n",
    "HARASSEXP2c_W56 = 'Publicly shared your contact information or address without your permission'\n",
    "answer_no = 'No, this has not happened to me'\n",
    "answer_yes = 'Yes, this has happened to me'\n",
    "answer_refuse = 'Refused'"
   ]
  },
  {
   "cell_type": "code",
   "execution_count": 7,
   "metadata": {},
   "outputs": [],
   "source": [
    "df[HARASSEXP1a_W56] = df['HARASSEXP1.a_W56'].map({answer_no: 0, answer_yes: 1, answer_refuse: 0 })\n",
    "df[HARASSEXP1b_W56] = df['HARASSEXP1.b_W56'].map({answer_no: 0, answer_yes: 1, answer_refuse: 0 })\n",
    "df[HARASSEXP1c_W56] = df['HARASSEXP1.c_W56'].map({answer_no: 0, answer_yes: 1, answer_refuse: 0 })\n",
    "df[HARASSEXP2a_W56] = df['HARASSEXP2.a_W56'].map({answer_no: 0, answer_yes: 1, answer_refuse: 0 })\n",
    "df[HARASSEXP2b_W56] = df['HARASSEXP2.b_W56'].map({answer_no: 0, answer_yes: 1, answer_refuse: 0 })\n",
    "df[HARASSEXP2c_W56] = df['HARASSEXP2.c_W56'].map({answer_no: 0, answer_yes: 1, answer_refuse: 0 })"
   ]
  },
  {
   "cell_type": "code",
   "execution_count": 8,
   "metadata": {
    "scrolled": true
   },
   "outputs": [
    {
     "data": {
      "image/png": "[encoded data removed]",
      "text/plain": [
       "<Figure size 432x288 with 1 Axes>"
      ]
     },
     "metadata": {
      "needs_background": "light"
     },
     "output_type": "display_data"
    }
   ],
   "source": [
    "on_haras_exp = [HARASSEXP1a_W56, HARASSEXP1b_W56, HARASSEXP1c_W56, HARASSEXP2a_W56, HARASSEXP2b_W56, HARASSEXP2c_W56]\n",
    "df.groupby('ONLINEDATE_W56').mean()[on_haras_exp].plot(kind='bar');\n",
    "plt.legend(bbox_to_anchor=(1.05, 1), loc='upper left');\n",
    "plt.tick_params(axis='both', colors='black');\n",
    "plt.xticks(rotation=0);\n",
    "plt.title('Online daters vs Non online daters on harassment')\n",
    "plt.ylabel('Percentage of participants');"
   ]
  },
  {
   "cell_type": "code",
   "execution_count": 9,
   "metadata": {},
   "outputs": [],
   "source": [
    "# Calculate number of online daters in dataset to use in the next calculations \n",
    "online_daters_total = df[df['ONLINEDATE_W56'] == 'Yes, have done this'].shape[0]\n",
    "nononline_daters_total = df[df['ONLINEDATE_W56'] == 'No, have not done this'].shape[0]"
   ]
  },
  {
   "cell_type": "code",
   "execution_count": 10,
   "metadata": {
    "scrolled": true
   },
   "outputs": [
    {
     "name": "stdout",
     "output_type": "stream",
     "text": [
      "Online daters who experienced harassment 0.6112702960840497\n",
      "Non online daters who experienced 0.4403183023872679\n"
     ]
    }
   ],
   "source": [
    "# Calculate how many people have experienced any type of harassment\n",
    "no_haras =df[(df[HARASSEXP1a_W56]==0)&(df[HARASSEXP1b_W56]==0)&(df[HARASSEXP1c_W56]==0)&\n",
    "             (df[HARASSEXP2a_W56]==0)&(df[HARASSEXP2b_W56]==0)&(df[HARASSEXP2c_W56]==0)]\n",
    "no_haras.groupby('ONLINEDATE_W56')['ONLINEDATE_W56'].value_counts()\n",
    "no_haras_online = no_haras[no_haras['ONLINEDATE_W56'] == 'Yes, have done this'].shape[0]\n",
    "no_haras_nononline= no_haras[no_haras['ONLINEDATE_W56'] == 'No, have not done this'].shape[0]\n",
    "\n",
    "print(f'Online daters who experienced harassment {(online_daters_total - no_haras_online) / online_daters_total}')\n",
    "print(f'Non online daters who experienced {(nononline_daters_total - no_haras_nononline) / nononline_daters_total}')"
   ]
  },
  {
   "cell_type": "code",
   "execution_count": 11,
   "metadata": {},
   "outputs": [],
   "source": [
    "# Assign variable names to these questions and answers to combine these columns and help with the plot below\n",
    "ONHARASSa_W56 = 'Called you an offensive name'\n",
    "ONHARASSb_W56 = 'Threatened to physically harm you'\n",
    "ONHARASSc_W56 = 'Sent you a sexually explicit message or image you didn’t ask for'\n",
    "ONHARASSd_W56 = 'Continued to contact you after you said you were not interested'\n",
    "df[ONHARASSa_W56] = df['ONHARASS.a_W56'].map({answer_no: 0, answer_yes: 1, answer_refuse: 0 })\n",
    "df[ONHARASSb_W56] = df['ONHARASS.b_W56'].map({answer_no: 0, answer_yes: 1, answer_refuse: 0 })\n",
    "df[ONHARASSc_W56] = df['ONHARASS.c_W56'].map({answer_no: 0, answer_yes: 1, answer_refuse: 0 })\n",
    "df[ONHARASSd_W56] = df['ONHARASS.d_W56'].map({answer_no: 0, answer_yes: 1, answer_refuse: 0 })\n",
    "df['F_SEX'] = df['F_SEX'].map({'Female' : 'Female', 'Male': 'Male'})"
   ]
  },
  {
   "cell_type": "code",
   "execution_count": 12,
   "metadata": {
    "scrolled": true
   },
   "outputs": [
    {
     "data": {
      "image/png": "[encoded data removed]",
      "text/plain": [
       "<Figure size 432x288 with 1 Axes>"
      ]
     },
     "metadata": {
      "needs_background": "light"
     },
     "output_type": "display_data"
    }
   ],
   "source": [
    "on_haras_dating = [ONHARASSa_W56,ONHARASSb_W56, ONHARASSc_W56, ONHARASSd_W56 ]\n",
    "df.groupby('F_SEX').mean()[on_haras_dating].plot(kind='bar');\n",
    "plt.legend(bbox_to_anchor=(1.05, 1), loc='upper left');\n",
    "plt.tick_params(axis='both', colors='black')\n",
    "plt.xticks(rotation=0)\n",
    "plt.ylabel('Percentage of participants')\n",
    "plt.title('Female vs Male online daters on harassment questions');"
   ]
  },
  {
   "cell_type": "code",
   "execution_count": 13,
   "metadata": {},
   "outputs": [],
   "source": [
    "df_w_harass = df[(df['F_SEX'] == 'Female') & (df['ONLINEDATE_W56'] == 'Yes, have done this') ][on_haras_dating]\n",
    "df_w_harass['totl'] = df_w_harass[ONHARASSa_W56] + df_w_harass[ONHARASSb_W56] + df_w_harass[ONHARASSc_W56] + df_w_harass[ONHARASSd_W56]\n",
    "df_m_harass = df[(df['F_SEX'] == 'Male') & (df['ONLINEDATE_W56'] == 'Yes, have done this') ][on_haras_dating]\n",
    "df_m_harass['totl'] = df_m_harass[ONHARASSa_W56] + df_m_harass[ONHARASSb_W56] + df_m_harass[ONHARASSc_W56] + df_m_harass[ONHARASSd_W56]"
   ]
  },
  {
   "cell_type": "code",
   "execution_count": 14,
   "metadata": {},
   "outputs": [
    {
     "name": "stdout",
     "output_type": "stream",
     "text": [
      "Women online daters who have experienced harassment 62.7%\n",
      "Men online daters who have experienced harassment 52.4%\n"
     ]
    }
   ],
   "source": [
    "# Total w=women, m=men responded yes to harassment questions\n",
    "w_harass = sum([1 for each in df_w_harass['totl'] if each>0 ])\n",
    "m_harass =sum ([1 for each in df_m_harass['totl'] if each>0 ])\n",
    "\n",
    "# Total w=women, m=men online daters\n",
    "w_totl_date = df[(df['ONLINEDATE_W56'] == 'Yes, have done this') & \n",
    "                 (df['F_SEX'] == 'Female')].shape[0]\n",
    "\n",
    "m_totl_date = df[(df['ONLINEDATE_W56'] == 'Yes, have done this') & \n",
    "                 (df['F_SEX'] == 'Male')].shape[0]\n",
    "\n",
    "print(f'Women online daters who have experienced harassment {round((w_harass/w_totl_date)*100,1)}%')\n",
    "print(f'Men online daters who have experienced harassment {round((m_harass/m_totl_date)*100,1)}%')"
   ]
  },
  {
   "cell_type": "markdown",
   "metadata": {},
   "source": [
    "The number of  online daters who reported to have experienced some type of harassment was 17% higher than non online daters. When looking at the difference between men and women, 62.7% women online daters said they have experienced harassment in their dates while 52.4% men reported the same. \n",
    "\n"
   ]
  }
 ],
 "metadata": {
  "kernelspec": {
   "display_name": "Python 3",
   "language": "python",
   "name": "python3"
  },
  "language_info": {
   "codemirror_mode": {
    "name": "ipython",
    "version": 3
   },
   "file_extension": ".py",
   "mimetype": "text/x-python",
   "name": "python",
   "nbconvert_exporter": "python",
   "pygments_lexer": "ipython3",
   "version": "3.8.3"
  }
 },
 "nbformat": 4,
 "nbformat_minor": 4
}
